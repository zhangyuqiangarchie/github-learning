{
 "cells": [
  {
   "cell_type": "markdown",
   "id": "3f05fc85-25db-4993-9ec3-ac0872cc5d9f",
   "metadata": {
    "tags": []
   },
   "source": [
    "### <a href=\"https://cognitiveclass.ai/\"> Cognitive Class</a>\n",
    "### 查看更多markdown paper 请看 <a href=\" https://github.com/adam-p/markdown-here/wiki/Markdown-Cheatsheet\"> Markdown note</a>\n",
    "\n",
    "### 查看整个jupyter学习 请看 <a href=\"https://github.com/jupyter/jupyter/wiki\"> Jupyter 全面学习</a>\n",
    "\n",
    "### 查看整个python 学习 包含 numpy scipy matplotlib Sympy（表达出来更加形象）请看 <a href=\"https://nbviewer.org/github/jrjohansson/scientific-python-lectures/tree/master/\"> Python 全面学习</a>\n",
    "    \n",
    "### 查看关于numpy 包 请看 <a href=\"https://nbviewer.org/github/jrjohansson/scientific-python-lectures/blob/master/Lecture-2-Numpy.ipynb\"> Numpy 全面学习</a>\n",
    "    \n",
    "### 查看关于matplotlib 包 请看 <a href=\"https://nbviewer.org/github/jrjohansson/scientific-python-lectures/blob/master/Lecture-4-Matplotlib.ipynb\"> Matplotlib 全面学习</a>\n",
    "\n"
   ]
  },
  {
   "cell_type": "markdown",
   "id": "04bfd5fa-79a5-4c93-9bda-65b0d434440b",
   "metadata": {},
   "source": [
    "### 查看关于Exploratory Data Analysis(EDA) 请看<a href=\"https://nbviewer.jupyter.org/github/Tanu-N-Prabhu/Python/blob/master/Exploratory_data_Analysis.ipynb\"> data analysis 可视化以及预处理</a>\n",
    "    EDA是什么：通过总结总体数据的数据特征来了解数据，plotting包括 Histograms，Box plot，Scatter plot\n",
    "    EDA steps：\n",
    "        1.Importing the required libraries for EDA\n",
    "        2.Loading the data into the data frame.\n",
    "        3.Checking the types of data\n",
    "        4.Dropping irrelevant columns\n",
    "        5.Renaming the columns\n",
    "        6.Dropping the duplicate rows\n",
    "        7.Dropping the missing or null values.\n",
    "        8.Detecting Outliers # Using the IQR score technique \n",
    "        9.Plot different features against one another (scatter), against frequency (histogram)\n",
    "            9.1.Histogram\n",
    "            9.2.Heat Maps\n",
    "            9.3.Scatterplot\n",
    "另一篇文章介绍 <a href=\"https://towardsdatascience.com/data-cleaning-with-python-using-pandas-library-c6f4a68ea8eb\"> Data Cleaning using Python with Pandas Library</a>\n",
    "#### Hint: (8).About detail of <a href=\"https://towardsdatascience.com/ways-to-detect-and-remove-the-outliers-404d16608dba\">  Detect and Remove the Outliers</a>"
   ]
  },
  {
   "cell_type": "markdown",
   "id": "7bc66120-d1e3-4804-b1cc-0fb258485326",
   "metadata": {},
   "source": [
    "#### 具体例子 <a href=\"https://www.kaggle.com/lalitharajesh/iris-dataset-exploratory-data-analysis\"> in-depth notebook on the iris dataset </a>\n",
    "#### 聚类分析 <a href=\"https://nbviewer.jupyter.org/github/temporaer/tutorial_ml_gkbionics/blob/master/2%20-%20KMeans.ipynb\"> clustering (K-means) </a>"
   ]
  },
  {
   "cell_type": "code",
   "execution_count": null,
   "id": "621f344f-f5eb-4319-b3e5-35d52d93f174",
   "metadata": {},
   "outputs": [],
   "source": []
  },
  {
   "cell_type": "code",
   "execution_count": null,
   "id": "e99c0722-0956-4ffb-9900-f3a28cf2fa05",
   "metadata": {},
   "outputs": [],
   "source": []
  },
  {
   "cell_type": "code",
   "execution_count": null,
   "id": "0d5f21f9-b0ea-4587-990c-49a26b84643f",
   "metadata": {},
   "outputs": [],
   "source": []
  },
  {
   "cell_type": "code",
   "execution_count": null,
   "id": "e4d381e7-4fa4-42ca-b7f1-078c5d6f2d26",
   "metadata": {},
   "outputs": [],
   "source": []
  },
  {
   "cell_type": "code",
   "execution_count": null,
   "id": "6730f153-180e-4464-a27c-255f9b885af5",
   "metadata": {},
   "outputs": [],
   "source": []
  },
  {
   "cell_type": "code",
   "execution_count": null,
   "id": "f6273373-1f65-443d-81b0-9475ec66ad8e",
   "metadata": {},
   "outputs": [],
   "source": []
  },
  {
   "cell_type": "code",
   "execution_count": null,
   "id": "b9502cfe-37cf-42a7-800c-cb5e0ae0af6c",
   "metadata": {},
   "outputs": [],
   "source": []
  },
  {
   "cell_type": "markdown",
   "id": "82e68c8d-bd50-4f79-b0d0-8decb92cdcef",
   "metadata": {},
   "source": [
    "### 创建html table\n",
    "| name | age | hobby | ability |\n",
    "| ---- | --- | ----  | --------| \n",
    "|archie| 23  |baseball| R,python|\n",
    "|jean|23|sleep|all language|\n"
   ]
  },
  {
   "cell_type": "code",
   "execution_count": 2,
   "id": "52d8ab51-7a4d-4fb8-a296-fd1db0932ce7",
   "metadata": {},
   "outputs": [
    {
     "name": "stdout",
     "output_type": "stream",
     "text": [
      "√2⋅√2\n",
      "equals to \n",
      "2\n"
     ]
    }
   ],
   "source": [
    "#an example of sympy\n",
    "from sympy import sqrt, pprint, Mul\n",
    "\n",
    "x = sqrt(2)\n",
    "y = sqrt(2)\n",
    "\n",
    "pprint(Mul(x,  y, evaluate=False)) \n",
    "print('equals to ')\n",
    "print(x * y)"
   ]
  },
  {
   "cell_type": "code",
   "execution_count": 3,
   "id": "e66ecb5e-2469-40ee-a5eb-bb66c02c3dad",
   "metadata": {},
   "outputs": [
    {
     "name": "stdout",
     "output_type": "stream",
     "text": [
      "Help on class map in module builtins:\n",
      "\n",
      "class map(object)\n",
      " |  map(func, *iterables) --> map object\n",
      " |  \n",
      " |  Make an iterator that computes the function using arguments from\n",
      " |  each of the iterables.  Stops when the shortest iterable is exhausted.\n",
      " |  \n",
      " |  Methods defined here:\n",
      " |  \n",
      " |  __getattribute__(self, name, /)\n",
      " |      Return getattr(self, name).\n",
      " |  \n",
      " |  __iter__(self, /)\n",
      " |      Implement iter(self).\n",
      " |  \n",
      " |  __next__(self, /)\n",
      " |      Implement next(self).\n",
      " |  \n",
      " |  __reduce__(...)\n",
      " |      Return state information for pickling.\n",
      " |  \n",
      " |  ----------------------------------------------------------------------\n",
      " |  Static methods defined here:\n",
      " |  \n",
      " |  __new__(*args, **kwargs) from builtins.type\n",
      " |      Create and return a new object.  See help(type) for accurate signature.\n",
      "\n"
     ]
    }
   ],
   "source": [
    "help(map)"
   ]
  },
  {
   "cell_type": "code",
   "execution_count": null,
   "id": "f106f240-412f-4a11-821a-4f846bdb7abd",
   "metadata": {},
   "outputs": [],
   "source": []
  }
 ],
 "metadata": {
  "kernelspec": {
   "display_name": "Python 3 (ipykernel)",
   "language": "python",
   "name": "python3"
  },
  "language_info": {
   "codemirror_mode": {
    "name": "ipython",
    "version": 3
   },
   "file_extension": ".py",
   "mimetype": "text/x-python",
   "name": "python",
   "nbconvert_exporter": "python",
   "pygments_lexer": "ipython3",
   "version": "3.9.7"
  }
 },
 "nbformat": 4,
 "nbformat_minor": 5
}
